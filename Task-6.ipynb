{
 "cells": [
  {
   "cell_type": "markdown",
   "id": "ef815b98-2103-4fa6-9d86-8e127af9f4e9",
   "metadata": {},
   "source": [
    "# Create function to return dictionary of user data"
   ]
  },
  {
   "cell_type": "code",
   "execution_count": 101,
   "id": "8628ea19-dea2-4845-9984-0d498fa8510b",
   "metadata": {},
   "outputs": [],
   "source": [
    "def user_data(user_id, user_name, user_age):\n",
    "    if user_age>70:\n",
    "        age_category=\"Super Senior\"\n",
    "    elif user_age>55:\n",
    "        age_category= \"Elder\"\n",
    "    elif user_age>30:\n",
    "        age_category=\"Adult\"  \n",
    "    else: age_category =\"Teenage\"   \n",
    "    return{\"user_id\":user_id, \"user_name\": user_name, \"user_age\": user_age, \"age_category\": age_category}"
   ]
  },
  {
   "cell_type": "code",
   "execution_count": 103,
   "id": "ddb4644a-c876-474f-a2b3-6f9ab7b32d0f",
   "metadata": {},
   "outputs": [
    {
     "name": "stdout",
     "output_type": "stream",
     "text": [
      "{'user_id': 1, 'user_name': 'user1', 'user_age': 23, 'age_category': 'Teenage'}\n",
      "{'user_id': 2, 'user_name': 'user2', 'user_age': 37, 'age_category': 'Adult'}\n",
      "{'user_id': 3, 'user_name': 'user3', 'user_age': 63, 'age_category': 'Elder'}\n",
      "{'user_id': 4, 'user_name': 'user3', 'user_age': 80, 'age_category': 'Super Senior'}\n"
     ]
    }
   ],
   "source": [
    "print(user_data(1, \"user1\", 23))  \n",
    "print(user_data(2, \"user2\" , 37))\n",
    "print(user_data(3, \"user3\" , 63))\n",
    "print(user_data(4, \"user3\" , 80))"
   ]
  },
  {
   "cell_type": "code",
   "execution_count": null,
   "id": "dee1f47d-bf5f-43db-908f-effc673e09b5",
   "metadata": {},
   "outputs": [],
   "source": []
  }
 ],
 "metadata": {
  "kernelspec": {
   "display_name": "Python 3 (ipykernel)",
   "language": "python",
   "name": "python3"
  },
  "language_info": {
   "codemirror_mode": {
    "name": "ipython",
    "version": 3
   },
   "file_extension": ".py",
   "mimetype": "text/x-python",
   "name": "python",
   "nbconvert_exporter": "python",
   "pygments_lexer": "ipython3",
   "version": "3.12.4"
  }
 },
 "nbformat": 4,
 "nbformat_minor": 5
}
